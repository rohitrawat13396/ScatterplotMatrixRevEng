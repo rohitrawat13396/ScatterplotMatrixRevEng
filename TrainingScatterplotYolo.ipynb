{
  "nbformat": 4,
  "nbformat_minor": 0,
  "metadata": {
    "colab": {
      "name": "TrainingScatterplotYolo.ipynb",
      "provenance": [],
      "collapsed_sections": [],
      "machine_shape": "hm"
    },
    "kernelspec": {
      "name": "python3",
      "display_name": "Python 3"
    },
    "accelerator": "GPU"
  },
  "cells": [
    {
      "cell_type": "markdown",
      "metadata": {
        "id": "d7KeE-8zD3xK",
        "colab_type": "text"
      },
      "source": [
        "Force upgrade runtime, will get more memory, wait for a few minutes, then click on \"Get more RAM\""
      ]
    },
    {
      "cell_type": "code",
      "metadata": {
        "id": "ogPr9ELEDsjh",
        "colab_type": "code",
        "colab": {}
      },
      "source": [
        "a = []\n",
        "while True:\n",
        "  a.append(1)"
      ],
      "execution_count": 0,
      "outputs": []
    },
    {
      "cell_type": "code",
      "metadata": {
        "id": "T3N1MJyNEkBp",
        "colab_type": "code",
        "colab": {}
      },
      "source": [
        "!nvidia-smi"
      ],
      "execution_count": 0,
      "outputs": []
    },
    {
      "cell_type": "markdown",
      "metadata": {
        "id": "gOsFHMzt-vhU",
        "colab_type": "text"
      },
      "source": [
        "If you mount drive and then clone in drive, you will not have to repeat below steps again, make sure to have a GPU runtime"
      ]
    },
    {
      "cell_type": "code",
      "metadata": {
        "id": "mhKUHbwP85lD",
        "colab_type": "code",
        "colab": {}
      },
      "source": [
        "!git clone https://github.com/siddhantrele/ScatterplotMatrixRevEng  "
      ],
      "execution_count": 0,
      "outputs": []
    },
    {
      "cell_type": "code",
      "metadata": {
        "id": "FenRAZp39G99",
        "colab_type": "code",
        "outputId": "053ec501-5996-41d2-94da-0195135f5572",
        "colab": {
          "base_uri": "https://localhost:8080/",
          "height": 35
        }
      },
      "source": [
        "%cd ScatterplotMatrixRevEng/"
      ],
      "execution_count": 2,
      "outputs": [
        {
          "output_type": "stream",
          "text": [
            "/content/ScatterplotMatrixRevEng\n"
          ],
          "name": "stdout"
        }
      ]
    },
    {
      "cell_type": "code",
      "metadata": {
        "id": "0NiFgxkT9jSx",
        "colab_type": "code",
        "colab": {}
      },
      "source": [
        "!python generate_scatterplots_train_test.py"
      ],
      "execution_count": 0,
      "outputs": []
    },
    {
      "cell_type": "markdown",
      "metadata": {
        "id": "GMTJivzOKXsv",
        "colab_type": "text"
      },
      "source": [
        "If you mount drive and data is generated, execute from here"
      ]
    },
    {
      "cell_type": "code",
      "metadata": {
        "id": "Ruvu5Q9h-rST",
        "colab_type": "code",
        "colab": {}
      },
      "source": [
        "!pip uninstall tensorflow                   # Uninstall TF 2.0\n",
        "!pip install tensorflow==1.13.2             # Install compatible TF version\n",
        "!pip install -r requirements.txt            # Install required modules"
      ],
      "execution_count": 0,
      "outputs": []
    },
    {
      "cell_type": "code",
      "metadata": {
        "id": "wGWNdWhC-stM",
        "colab_type": "code",
        "colab": {}
      },
      "source": [
        "!python train.py --model_def config/yolov3-custom.cfg --data_config config/custom.data"
      ],
      "execution_count": 0,
      "outputs": []
    },
    {
      "cell_type": "code",
      "metadata": {
        "id": "ye-PM73J_E_0",
        "colab_type": "code",
        "colab": {}
      },
      "source": [
        "!python detect.py \\\n",
        "--image_folder data/custom/images \\\n",
        "--model_def config/yolov3-custom.cfg \\\n",
        "--class_path data/custom/classes.names \\\n",
        "--weights_path checkpoints/yolov3_ckpt_99.pth"
      ],
      "execution_count": 0,
      "outputs": []
    }
  ]
}